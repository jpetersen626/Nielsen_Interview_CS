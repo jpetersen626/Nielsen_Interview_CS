{
 "cells": [
  {
   "cell_type": "markdown",
   "id": "21a60f7e-7ba5-4af3-9597-4b4ef474e980",
   "metadata": {},
   "source": [
    "# Nielsen Case Study Analysis\n",
    "\n",
    "By Jackie Petersen"
   ]
  },
  {
   "cell_type": "markdown",
   "id": "200edcf9-d4c6-4f9a-af93-7eb44d849af7",
   "metadata": {},
   "source": [
    "## EDA"
   ]
  },
  {
   "cell_type": "markdown",
   "id": "64bf27d7-80b6-499e-b74d-02d416c2b797",
   "metadata": {},
   "source": [
    "---"
   ]
  },
  {
   "cell_type": "code",
   "execution_count": 14,
   "id": "35262210-e43e-4abb-ae61-8785afd4fdc4",
   "metadata": {},
   "outputs": [],
   "source": [
    "import pandas as pd\n",
    "import numpy as np\n",
    "import matplotlib.pyplot as plt\n",
    "import seaborn as sns\n",
    "from sklearn.model_selection import train_test_split\n",
    "from sklearn.linear_model import LogisticRegression\n",
    "from sklearn.preprocessing import StandardScaler, OneHotEncoder\n",
    "from sklearn.metrics import ConfusionMatrixDisplay\n",
    "from sklearn.pipeline import make_pipeline\n",
    "from sklearn.compose import make_column_transformer"
   ]
  },
  {
   "cell_type": "code",
   "execution_count": 2,
   "id": "be61a636-cc8d-42bb-8376-848ffd8b849d",
   "metadata": {},
   "outputs": [],
   "source": [
    "data = pd.read_csv('census_labeled.csv')"
   ]
  },
  {
   "cell_type": "markdown",
   "id": "7c568bbe-0840-45ec-9d8e-ba8c19ce48ed",
   "metadata": {},
   "source": [
    "#### Checking through the data briefly to get an idea of what is in the dataset."
   ]
  },
  {
   "cell_type": "code",
   "execution_count": 3,
   "id": "0aaa9591-7e17-4e8e-b97e-3ffac50387cf",
   "metadata": {},
   "outputs": [
    {
     "data": {
      "text/html": [
       "<div>\n",
       "<style scoped>\n",
       "    .dataframe tbody tr th:only-of-type {\n",
       "        vertical-align: middle;\n",
       "    }\n",
       "\n",
       "    .dataframe tbody tr th {\n",
       "        vertical-align: top;\n",
       "    }\n",
       "\n",
       "    .dataframe thead th {\n",
       "        text-align: right;\n",
       "    }\n",
       "</style>\n",
       "<table border=\"1\" class=\"dataframe\">\n",
       "  <thead>\n",
       "    <tr style=\"text-align: right;\">\n",
       "      <th></th>\n",
       "      <th>county name</th>\n",
       "      <th>state</th>\n",
       "      <th>county_population_increased_2015_2016</th>\n",
       "      <th>year</th>\n",
       "      <th>female_total_population</th>\n",
       "      <th>female_age_under_5_pct</th>\n",
       "      <th>female_age_5_to_9_pct</th>\n",
       "      <th>female_age_10_to_14_pct</th>\n",
       "      <th>female_age_15_to_19_pct</th>\n",
       "      <th>female_age_20_to_24_pct</th>\n",
       "      <th>...</th>\n",
       "      <th>male_age_40_to_44_pct</th>\n",
       "      <th>male_age_45_to_49_pct</th>\n",
       "      <th>male_age_50_to_54_pct</th>\n",
       "      <th>male_age_55_to_59_pct</th>\n",
       "      <th>male_age_60_to_64_pct</th>\n",
       "      <th>male_age_65_to_69_pct</th>\n",
       "      <th>male_age_70_to_74_pct</th>\n",
       "      <th>male_age_75_to_79_pct</th>\n",
       "      <th>male_age_80_to_84_pct</th>\n",
       "      <th>male_age_85_and_over_pct</th>\n",
       "    </tr>\n",
       "  </thead>\n",
       "  <tbody>\n",
       "    <tr>\n",
       "      <th>0</th>\n",
       "      <td>Stark County</td>\n",
       "      <td>Ohio</td>\n",
       "      <td>False</td>\n",
       "      <td>2010</td>\n",
       "      <td>192651</td>\n",
       "      <td>5.5</td>\n",
       "      <td>6.3</td>\n",
       "      <td>6.0</td>\n",
       "      <td>6.2</td>\n",
       "      <td>5.7</td>\n",
       "      <td>...</td>\n",
       "      <td>7.0</td>\n",
       "      <td>7.4</td>\n",
       "      <td>8.1</td>\n",
       "      <td>7.4</td>\n",
       "      <td>6.2</td>\n",
       "      <td>4.8</td>\n",
       "      <td>3.1</td>\n",
       "      <td>2.6</td>\n",
       "      <td>2.0</td>\n",
       "      <td>1.5</td>\n",
       "    </tr>\n",
       "    <tr>\n",
       "      <th>1</th>\n",
       "      <td>Summit County</td>\n",
       "      <td>Ohio</td>\n",
       "      <td>False</td>\n",
       "      <td>2010</td>\n",
       "      <td>279592</td>\n",
       "      <td>5.6</td>\n",
       "      <td>5.8</td>\n",
       "      <td>6.2</td>\n",
       "      <td>6.5</td>\n",
       "      <td>6.1</td>\n",
       "      <td>...</td>\n",
       "      <td>6.8</td>\n",
       "      <td>7.6</td>\n",
       "      <td>8.1</td>\n",
       "      <td>7.5</td>\n",
       "      <td>5.6</td>\n",
       "      <td>3.6</td>\n",
       "      <td>3.3</td>\n",
       "      <td>2.5</td>\n",
       "      <td>2.0</td>\n",
       "      <td>1.2</td>\n",
       "    </tr>\n",
       "    <tr>\n",
       "      <th>2</th>\n",
       "      <td>Trumbull County</td>\n",
       "      <td>Ohio</td>\n",
       "      <td>False</td>\n",
       "      <td>2010</td>\n",
       "      <td>108490</td>\n",
       "      <td>5.4</td>\n",
       "      <td>5.9</td>\n",
       "      <td>6.3</td>\n",
       "      <td>6.2</td>\n",
       "      <td>5.0</td>\n",
       "      <td>...</td>\n",
       "      <td>6.7</td>\n",
       "      <td>7.1</td>\n",
       "      <td>8.1</td>\n",
       "      <td>6.9</td>\n",
       "      <td>7.5</td>\n",
       "      <td>5.7</td>\n",
       "      <td>3.0</td>\n",
       "      <td>2.5</td>\n",
       "      <td>2.6</td>\n",
       "      <td>1.5</td>\n",
       "    </tr>\n",
       "    <tr>\n",
       "      <th>3</th>\n",
       "      <td>Tuscarawas County</td>\n",
       "      <td>Ohio</td>\n",
       "      <td>False</td>\n",
       "      <td>2010</td>\n",
       "      <td>47279</td>\n",
       "      <td>5.5</td>\n",
       "      <td>5.2</td>\n",
       "      <td>7.7</td>\n",
       "      <td>6.5</td>\n",
       "      <td>4.9</td>\n",
       "      <td>...</td>\n",
       "      <td>5.5</td>\n",
       "      <td>7.2</td>\n",
       "      <td>8.1</td>\n",
       "      <td>6.2</td>\n",
       "      <td>7.2</td>\n",
       "      <td>4.0</td>\n",
       "      <td>4.0</td>\n",
       "      <td>2.4</td>\n",
       "      <td>2.5</td>\n",
       "      <td>1.4</td>\n",
       "    </tr>\n",
       "    <tr>\n",
       "      <th>4</th>\n",
       "      <td>Warren County</td>\n",
       "      <td>Ohio</td>\n",
       "      <td>True</td>\n",
       "      <td>2010</td>\n",
       "      <td>105706</td>\n",
       "      <td>6.4</td>\n",
       "      <td>7.0</td>\n",
       "      <td>8.5</td>\n",
       "      <td>6.4</td>\n",
       "      <td>4.2</td>\n",
       "      <td>...</td>\n",
       "      <td>6.9</td>\n",
       "      <td>8.3</td>\n",
       "      <td>7.4</td>\n",
       "      <td>5.2</td>\n",
       "      <td>5.7</td>\n",
       "      <td>3.3</td>\n",
       "      <td>2.3</td>\n",
       "      <td>1.7</td>\n",
       "      <td>1.3</td>\n",
       "      <td>0.7</td>\n",
       "    </tr>\n",
       "  </tbody>\n",
       "</table>\n",
       "<p>5 rows × 42 columns</p>\n",
       "</div>"
      ],
      "text/plain": [
       "         county name state county_population_increased_2015_2016  year  \\\n",
       "0       Stark County  Ohio                                 False  2010   \n",
       "1      Summit County  Ohio                                 False  2010   \n",
       "2    Trumbull County  Ohio                                 False  2010   \n",
       "3  Tuscarawas County  Ohio                                 False  2010   \n",
       "4      Warren County  Ohio                                  True  2010   \n",
       "\n",
       "   female_total_population  female_age_under_5_pct  female_age_5_to_9_pct  \\\n",
       "0                   192651                     5.5                    6.3   \n",
       "1                   279592                     5.6                    5.8   \n",
       "2                   108490                     5.4                    5.9   \n",
       "3                    47279                     5.5                    5.2   \n",
       "4                   105706                     6.4                    7.0   \n",
       "\n",
       "   female_age_10_to_14_pct  female_age_15_to_19_pct  female_age_20_to_24_pct  \\\n",
       "0                      6.0                      6.2                      5.7   \n",
       "1                      6.2                      6.5                      6.1   \n",
       "2                      6.3                      6.2                      5.0   \n",
       "3                      7.7                      6.5                      4.9   \n",
       "4                      8.5                      6.4                      4.2   \n",
       "\n",
       "   ...  male_age_40_to_44_pct  male_age_45_to_49_pct  male_age_50_to_54_pct  \\\n",
       "0  ...                    7.0                    7.4                    8.1   \n",
       "1  ...                    6.8                    7.6                    8.1   \n",
       "2  ...                    6.7                    7.1                    8.1   \n",
       "3  ...                    5.5                    7.2                    8.1   \n",
       "4  ...                    6.9                    8.3                    7.4   \n",
       "\n",
       "   male_age_55_to_59_pct  male_age_60_to_64_pct  male_age_65_to_69_pct  \\\n",
       "0                    7.4                    6.2                    4.8   \n",
       "1                    7.5                    5.6                    3.6   \n",
       "2                    6.9                    7.5                    5.7   \n",
       "3                    6.2                    7.2                    4.0   \n",
       "4                    5.2                    5.7                    3.3   \n",
       "\n",
       "   male_age_70_to_74_pct  male_age_75_to_79_pct  male_age_80_to_84_pct  \\\n",
       "0                    3.1                    2.6                    2.0   \n",
       "1                    3.3                    2.5                    2.0   \n",
       "2                    3.0                    2.5                    2.6   \n",
       "3                    4.0                    2.4                    2.5   \n",
       "4                    2.3                    1.7                    1.3   \n",
       "\n",
       "   male_age_85_and_over_pct  \n",
       "0                       1.5  \n",
       "1                       1.2  \n",
       "2                       1.5  \n",
       "3                       1.4  \n",
       "4                       0.7  \n",
       "\n",
       "[5 rows x 42 columns]"
      ]
     },
     "execution_count": 3,
     "metadata": {},
     "output_type": "execute_result"
    }
   ],
   "source": [
    "data.head()"
   ]
  },
  {
   "cell_type": "code",
   "execution_count": 4,
   "id": "a2add7d9-f97c-42a3-94a2-731e26599f2a",
   "metadata": {},
   "outputs": [
    {
     "name": "stdout",
     "output_type": "stream",
     "text": [
      "<class 'pandas.core.frame.DataFrame'>\n",
      "RangeIndex: 4951 entries, 0 to 4950\n",
      "Data columns (total 42 columns):\n",
      " #   Column                                 Non-Null Count  Dtype  \n",
      "---  ------                                 --------------  -----  \n",
      " 0   county name                            4951 non-null   object \n",
      " 1   state                                  4951 non-null   object \n",
      " 2   county_population_increased_2015_2016  4945 non-null   object \n",
      " 3   year                                   4951 non-null   int64  \n",
      " 4   female_total_population                4951 non-null   int64  \n",
      " 5   female_age_under_5_pct                 4951 non-null   float64\n",
      " 6   female_age_5_to_9_pct                  4951 non-null   float64\n",
      " 7   female_age_10_to_14_pct                4951 non-null   float64\n",
      " 8   female_age_15_to_19_pct                4951 non-null   float64\n",
      " 9   female_age_20_to_24_pct                4951 non-null   float64\n",
      " 10  female_age_25_to_29_pct                4951 non-null   float64\n",
      " 11  female_age_30_to_34_pct                4951 non-null   float64\n",
      " 12  female_age_35_to_39_pct                4951 non-null   float64\n",
      " 13  female_age_40_to_44_pct                4951 non-null   float64\n",
      " 14  female_age_45_to_49_pct                4951 non-null   float64\n",
      " 15  female_age_50_to_54_pct                4951 non-null   float64\n",
      " 16  female_age_55_to_59_pct                4951 non-null   float64\n",
      " 17  female_age_60_to_64_pct                4951 non-null   float64\n",
      " 18  female_age_65_to_69_pct                4951 non-null   float64\n",
      " 19  female_age_70_to_74_pct                4951 non-null   float64\n",
      " 20  female_age_75_to_79_pct                4951 non-null   float64\n",
      " 21  female_age_80_to_84_pct                4951 non-null   float64\n",
      " 22  female_age_85_and_over_pct             4951 non-null   float64\n",
      " 23  male_total_population                  4951 non-null   int64  \n",
      " 24  male_age_under_5_pct                   4951 non-null   float64\n",
      " 25  male_age_5_to_9_pct                    4951 non-null   float64\n",
      " 26  male_age_10_to_14_pct                  4951 non-null   float64\n",
      " 27  male_age_15_to_19_pct                  4951 non-null   float64\n",
      " 28  male_age_20_to_24_pct                  4951 non-null   float64\n",
      " 29  male_age_25_to_29_pct                  4951 non-null   float64\n",
      " 30  male_age_30_to_34_pct                  4951 non-null   float64\n",
      " 31  male_age_35_to_39_pct                  4951 non-null   float64\n",
      " 32  male_age_40_to_44_pct                  4951 non-null   float64\n",
      " 33  male_age_45_to_49_pct                  4951 non-null   float64\n",
      " 34  male_age_50_to_54_pct                  4951 non-null   float64\n",
      " 35  male_age_55_to_59_pct                  4951 non-null   float64\n",
      " 36  male_age_60_to_64_pct                  4951 non-null   float64\n",
      " 37  male_age_65_to_69_pct                  4951 non-null   float64\n",
      " 38  male_age_70_to_74_pct                  4951 non-null   float64\n",
      " 39  male_age_75_to_79_pct                  4951 non-null   float64\n",
      " 40  male_age_80_to_84_pct                  4951 non-null   float64\n",
      " 41  male_age_85_and_over_pct               4951 non-null   float64\n",
      "dtypes: float64(36), int64(3), object(3)\n",
      "memory usage: 1.6+ MB\n"
     ]
    }
   ],
   "source": [
    "data.info()"
   ]
  },
  {
   "cell_type": "markdown",
   "id": "e646f8fd-f20b-4969-a5bd-f98e5cd2fc6f",
   "metadata": {},
   "source": [
    "> Most columns are numerical. These ones will need to be scaled to put into the model (as is best practice). The other object columns being used, mainly 'county name', will need to be one hot encoded."
   ]
  },
  {
   "cell_type": "markdown",
   "id": "9a29cd49-2987-4ece-990f-083a07429ad0",
   "metadata": {},
   "source": [
    "#### Checking to see how many entries exist for each year."
   ]
  },
  {
   "cell_type": "code",
   "execution_count": 7,
   "id": "5bafcda3-f66e-4fd8-8cf5-eb8195c4c898",
   "metadata": {},
   "outputs": [
    {
     "data": {
      "text/plain": [
       "2015    830\n",
       "2013    828\n",
       "2014    828\n",
       "2012    825\n",
       "2011    822\n",
       "2010    818\n",
       "Name: year, dtype: int64"
      ]
     },
     "execution_count": 7,
     "metadata": {},
     "output_type": "execute_result"
    }
   ],
   "source": [
    "data['year'].value_counts()"
   ]
  },
  {
   "cell_type": "markdown",
   "id": "7f1afb12-a08c-44f9-9e21-3b19b1f978f7",
   "metadata": {},
   "source": [
    "#### Checking to see if each county has nearly similar amounts of entries. "
   ]
  },
  {
   "cell_type": "code",
   "execution_count": 9,
   "id": "9c523558-5d7e-4177-b7b0-ee39febcd204",
   "metadata": {},
   "outputs": [
    {
     "data": {
      "text/plain": [
       "Washington County         54\n",
       "Jefferson County          54\n",
       "Montgomery County         42\n",
       "Madison County            42\n",
       "Wayne County              30\n",
       "                          ..\n",
       "Ward County                3\n",
       "Rice County                3\n",
       "Lewis and Clark County     3\n",
       "Broomfield County          1\n",
       "Athens County              1\n",
       "Name: county name, Length: 662, dtype: int64"
      ]
     },
     "execution_count": 9,
     "metadata": {},
     "output_type": "execute_result"
    }
   ],
   "source": [
    "data['county name'].value_counts()"
   ]
  },
  {
   "cell_type": "markdown",
   "id": "c5bca728-8887-488b-98d5-c46c74d2d9a1",
   "metadata": {},
   "source": [
    "> Here we see that each county for the most part has varying amounts of entries total."
   ]
  },
  {
   "cell_type": "code",
   "execution_count": null,
   "id": "c12233db-d08d-49ca-9002-2665eb9b85a2",
   "metadata": {},
   "outputs": [],
   "source": []
  }
 ],
 "metadata": {
  "kernelspec": {
   "display_name": "Python 3 (ipykernel)",
   "language": "python",
   "name": "python3"
  },
  "language_info": {
   "codemirror_mode": {
    "name": "ipython",
    "version": 3
   },
   "file_extension": ".py",
   "mimetype": "text/x-python",
   "name": "python",
   "nbconvert_exporter": "python",
   "pygments_lexer": "ipython3",
   "version": "3.9.7"
  },
  "toc-autonumbering": false
 },
 "nbformat": 4,
 "nbformat_minor": 5
}
